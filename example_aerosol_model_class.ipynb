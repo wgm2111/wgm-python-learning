{
 "cells": [
  {
   "cell_type": "code",
   "execution_count": 3,
   "metadata": {
    "collapsed": false
   },
   "outputs": [],
   "source": [
    "\n",
    "\"\"\"\n",
    "Module for defining a sample class calls AerosolModel\n",
    "\"\"\"\n",
    "\n",
    "\n",
    "\n",
    "# Import from python 3.0 (gives correct behavior of print function and division) \n",
    "from __future__ import print_function, division\n",
    "\n",
    "\n",
    "\n",
    "# Import scipy \n",
    "import scipy as sp\n",
    "\n",
    "\n",
    "# Get machine epsilon for argument checking\n",
    "EPS = sp.finfo(float).eps\n",
    "\n",
    "\n",
    "\n",
    "# Define aerosol model class\n",
    "class AerosolModel:\n",
    "    \"Class for storing aerosol parameters.\"\n",
    "\n",
    "    def __init__(self, reff, veff, mr, mi):\n",
    "        \"\"\"\n",
    "        Construct a class to store retrieval properties\n",
    "        \"\"\"\n",
    "        \n",
    "        # Check arguments\n",
    "        if reff <= 10 * EPS: \n",
    "            msg = \"Expected positive reff, got {0}.\"\n",
    "            raise ValueError(msg.format(reff))\n",
    "        elif veff <= 10 * EPS: \n",
    "            msg = \"Expected positive veff, got {0}.\"\n",
    "            raise ValueError(msg.format(reff))\n",
    "        elif mr <= 10 * EPS: \n",
    "            msg = \"Expected positive mr, got {0}.\"\n",
    "            raise ValueError(msg.format(reff))\n",
    "        elif mi <= 10 * EPS: \n",
    "            msg = \"Expected positive veff, got {0}.\"\n",
    "            raise ValueError(msg.format(reff))\n",
    "\n",
    "        \n",
    "        # Store data\n",
    "        self.reff = reff\n",
    "        self.veff = veff\n",
    "        self.mr = mr\n",
    "        self.mi = mi\n",
    "\n",
    "    def __repr__(self):\n",
    "        \"Return a string to use when calling print function.\"\n",
    "        msg = \"AerosolModel(reff={0:.5}, veff={1:.5}, mr={2:.5}, mi={3:.5})\"\n",
    "        out = msg.format(self.reff, self.veff, self.mr, self.mi)\n",
    "        return out"
   ]
  },
  {
   "cell_type": "code",
   "execution_count": 4,
   "metadata": {
    "collapsed": false
   },
   "outputs": [
    {
     "name": "stdout",
     "output_type": "stream",
     "text": [
      "AerosolModel(reff=0.1, veff=0.01, mr=1.3, mi=1e-08)\n"
     ]
    }
   ],
   "source": [
    "# Make one aerosol model and print\n",
    "am0 = AerosolModel(.1, .01, 1.3, 1e-8)\n",
    "print(am0)\n"
   ]
  },
  {
   "cell_type": "code",
   "execution_count": 9,
   "metadata": {
    "collapsed": false
   },
   "outputs": [
    {
     "name": "stdout",
     "output_type": "stream",
     "text": [
      "AerosolModel(reff=0.01, veff=0.01, mr=1.33, mi=1e-08)\n",
      "AerosolModel(reff=0.02, veff=0.01, mr=1.33, mi=1e-08)\n",
      "AerosolModel(reff=0.03, veff=0.01, mr=1.33, mi=1e-08)\n",
      "AerosolModel(reff=0.04, veff=0.01, mr=1.33, mi=1e-08)\n",
      "AerosolModel(reff=0.05, veff=0.01, mr=1.33, mi=1e-08)\n",
      "AerosolModel(reff=0.06, veff=0.01, mr=1.33, mi=1e-08)\n",
      "AerosolModel(reff=0.07, veff=0.01, mr=1.33, mi=1e-08)\n",
      "AerosolModel(reff=0.08, veff=0.01, mr=1.33, mi=1e-08)\n",
      "AerosolModel(reff=0.09, veff=0.01, mr=1.33, mi=1e-08)\n",
      "AerosolModel(reff=0.1, veff=0.01, mr=1.33, mi=1e-08)\n"
     ]
    }
   ],
   "source": [
    "# Make 10 aerosol models with increasing effective radius\n",
    "\n",
    "## Make arrays with the values \n",
    "reff = sp.linspace(0.01, 0.1, 10)\n",
    "veff = 0.01 * sp.ones(10)\n",
    "mr = 1.33 * sp.ones(10)\n",
    "mi = 1e-8 * sp.ones(10)\n",
    "\n",
    "## Make an list of aerosol models \n",
    "am_list = [AerosolModel(_reff, _veff, _vr, _mi) \n",
    "           for _reff, _veff, _vr, _mi in zip(reff, veff, mr, mi)]\n",
    "\n",
    "## loop over the list of aerosol models and print each one\n",
    "for _am in am_list:\n",
    "    print(_am)\n"
   ]
  },
  {
   "cell_type": "code",
   "execution_count": null,
   "metadata": {
    "collapsed": true
   },
   "outputs": [],
   "source": []
  }
 ],
 "metadata": {
  "kernelspec": {
   "display_name": "Python 2",
   "language": "python",
   "name": "python2"
  },
  "language_info": {
   "codemirror_mode": {
    "name": "ipython",
    "version": 2
   },
   "file_extension": ".py",
   "mimetype": "text/x-python",
   "name": "python",
   "nbconvert_exporter": "python",
   "pygments_lexer": "ipython2",
   "version": "2.7.11"
  }
 },
 "nbformat": 4,
 "nbformat_minor": 0
}
